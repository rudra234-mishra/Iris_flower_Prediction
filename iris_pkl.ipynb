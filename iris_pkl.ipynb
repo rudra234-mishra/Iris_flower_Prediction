{
 "cells": [
  {
   "cell_type": "code",
   "execution_count": 7,
   "id": "f7fbc1f8-c17c-4dd1-b424-3931df114751",
   "metadata": {},
   "outputs": [],
   "source": [
    "import numpy as np\n",
    "import pickle\n",
    "import warnings\n",
    "warnings.filterwarnings(\"ignore\")"
   ]
  },
  {
   "cell_type": "code",
   "execution_count": 9,
   "id": "ed66d158-9884-41f5-b63c-66e90ddae65e",
   "metadata": {},
   "outputs": [],
   "source": [
    "pipe=pickle.load(open(\"iris.pkl\",\"rb\"))"
   ]
  },
  {
   "cell_type": "code",
   "execution_count": 13,
   "id": "27c24522-c4de-4713-8f7e-75aa81ea4a9b",
   "metadata": {},
   "outputs": [
    {
     "data": {
      "text/plain": [
       "array(['Iris-virginica'], dtype=object)"
      ]
     },
     "execution_count": 13,
     "metadata": {},
     "output_type": "execute_result"
    }
   ],
   "source": [
    "new=np.array([[5.9,3.0,5.1,1.8]]).reshape(1,4)\n",
    "pipe.predict(new)"
   ]
  },
  {
   "cell_type": "code",
   "execution_count": null,
   "id": "a53cd02c-e30e-43da-b9d0-10b5dafca6cf",
   "metadata": {},
   "outputs": [],
   "source": []
  }
 ],
 "metadata": {
  "kernelspec": {
   "display_name": "Python 3 (ipykernel)",
   "language": "python",
   "name": "python3"
  },
  "language_info": {
   "codemirror_mode": {
    "name": "ipython",
    "version": 3
   },
   "file_extension": ".py",
   "mimetype": "text/x-python",
   "name": "python",
   "nbconvert_exporter": "python",
   "pygments_lexer": "ipython3",
   "version": "3.12.4"
  }
 },
 "nbformat": 4,
 "nbformat_minor": 5
}
